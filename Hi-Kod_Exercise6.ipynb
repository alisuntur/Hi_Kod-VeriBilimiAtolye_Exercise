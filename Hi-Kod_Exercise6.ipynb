{
 "cells": [
  {
   "cell_type": "markdown",
   "id": "26439af6",
   "metadata": {},
   "source": [
    "# 1\n",
    "Sayılardan oluşan bir boyutlu array oluşturulur. Arrayi oluştururken sayıların veri tipini integer olarak belirtilir. Oluşturulan arrayin boyut, eleman sayısı bilgilerine bakılır.\n"
   ]
  },
  {
   "cell_type": "code",
   "execution_count": 1,
   "id": "2563a8e0",
   "metadata": {},
   "outputs": [
    {
     "name": "stdout",
     "output_type": "stream",
     "text": [
      "Boyut: 1\n",
      "Eleman Sayısı: 5\n"
     ]
    }
   ],
   "source": [
    "import numpy as np\n",
    "\n",
    "# Sayılardan oluşan bir boyutlu dizi oluşturdum\n",
    "bir_boyutlu_dizi = np.array([1, 2, 3, 4, 5], dtype=int)\n",
    "\n",
    "# Dizi boyutunu kontrol ettim\n",
    "boyut = bir_boyutlu_dizi.ndim\n",
    "\n",
    "# Eleman sayısını kontrol ettim\n",
    "eleman_sayısı = bir_boyutlu_dizi.size\n",
    "\n",
    "print(\"Boyut:\", boyut)\n",
    "print(\"Eleman Sayısı:\", eleman_sayısı)"
   ]
  },
  {
   "cell_type": "markdown",
   "id": "f61d4eb4",
   "metadata": {},
   "source": [
    "# 2\n",
    "İki ve üç boyutlu arrayler oluşturulur. Bu arraylerin boyut, eleman sayısı, satır, sütun bilgilerine ulaşılır. Arrayler üzerinde indexleme ve dilimleme(slicing) işlemi yapılır."
   ]
  },
  {
   "cell_type": "code",
   "execution_count": 2,
   "id": "01d1cb9c",
   "metadata": {},
   "outputs": [
    {
     "name": "stdout",
     "output_type": "stream",
     "text": [
      "İki Boyutlu Dizi Boyutu: 2\n",
      "İki Boyutlu Dizi Eleman Sayısı: 6\n",
      "Üç Boyutlu Dizi Boyutu: 3\n",
      "Üç Boyutlu Dizi Eleman Sayısı: 8\n"
     ]
    }
   ],
   "source": [
    "# İki boyutlu dizi oluşturdum\n",
    "iki_boyutlu_dizi = np.array([[1, 2, 3], [4, 5, 6]], dtype=int)\n",
    "\n",
    "# Üç boyutlu dizi oluşturdum\n",
    "üç_boyutlu_dizi = np.array([[[1, 2], [3, 4]], [[5, 6], [7, 8]]], dtype=int)\n",
    "\n",
    "# Dizilerin boyutlarını ve eleman sayılarını kontrol ettim\n",
    "boyut_2d = iki_boyutlu_dizi.ndim\n",
    "boyut_3d = üç_boyutlu_dizi.ndim\n",
    "eleman_sayısı_2d = iki_boyutlu_dizi.size\n",
    "eleman_sayısı_3d = üç_boyutlu_dizi.size\n",
    "\n",
    "print(\"İki Boyutlu Dizi Boyutu:\", boyut_2d)\n",
    "print(\"İki Boyutlu Dizi Eleman Sayısı:\", eleman_sayısı_2d)\n",
    "print(\"Üç Boyutlu Dizi Boyutu:\", boyut_3d)\n",
    "print(\"Üç Boyutlu Dizi Eleman Sayısı:\", eleman_sayısı_3d)"
   ]
  },
  {
   "cell_type": "markdown",
   "id": "22bf7d4a",
   "metadata": {},
   "source": [
    "# 3\n",
    "Numpy fonksiyonu kullanarak bir, iki ve üç boyutlu arrayler oluşturulur. Arrayler üzerinde indexleme ve dilimleme(slicing) işlemi yapılır"
   ]
  },
  {
   "cell_type": "code",
   "execution_count": 3,
   "id": "194fcd9a",
   "metadata": {},
   "outputs": [
    {
     "name": "stdout",
     "output_type": "stream",
     "text": [
      "İlk Satır: [1 2 3]\n",
      "İkinci Satır: [4 5 6]\n",
      "Birinci Eleman: 1\n",
      "Dilimleme 1: [2 5]\n",
      "Dilimleme 2: [4 5 6]\n"
     ]
    }
   ],
   "source": [
    "# İki boyutlu dizi üzerinde indexleme\n",
    "ilk_satır = iki_boyutlu_dizi[0]\n",
    "ikinci_satır = iki_boyutlu_dizi[1]\n",
    "birinci_eleman = iki_boyutlu_dizi[0, 0]\n",
    "\n",
    "# İki boyutlu dizi üzerinde dilimleme\n",
    "dilimleme_1 = iki_boyutlu_dizi[:, 1]  # Tüm satırlardan ikinci sütun\n",
    "dilimleme_2 = iki_boyutlu_dizi[1, :]  # İkinci satırdan tüm sütunlar\n",
    "\n",
    "print(\"İlk Satır:\", ilk_satır)\n",
    "print(\"İkinci Satır:\", ikinci_satır)\n",
    "print(\"Birinci Eleman:\", birinci_eleman)\n",
    "print(\"Dilimleme 1:\", dilimleme_1)\n",
    "print(\"Dilimleme 2:\", dilimleme_2)"
   ]
  },
  {
   "cell_type": "markdown",
   "id": "d68ea113",
   "metadata": {},
   "source": [
    "# 4\n",
    "Sıfırlardan oluşan ve birlerden oluşan iki tane iki boyutlu array oluşturulur. Bu arrayler satır ve sütun bazında birleştirilir."
   ]
  },
  {
   "cell_type": "code",
   "execution_count": 4,
   "id": "44fdfd85",
   "metadata": {},
   "outputs": [
    {
     "name": "stdout",
     "output_type": "stream",
     "text": [
      "Sıfırlar Dizi:\n",
      "[[0 0 0]\n",
      " [0 0 0]]\n",
      "Birler Dizi:\n",
      "[[1 1 1]\n",
      " [1 1 1]]\n",
      "Birleştirilmiş Dizi:\n",
      "[[0 0 0]\n",
      " [0 0 0]\n",
      " [1 1 1]\n",
      " [1 1 1]]\n"
     ]
    }
   ],
   "source": [
    "# Sıfırlardan oluşan bir dizi oluşturdum\n",
    "sıfırlar_dizisi = np.zeros((2, 3), dtype=int)\n",
    "\n",
    "# Birlerden oluşan bir dizi oluşturdum\n",
    "birler_dizisi = np.ones((2, 3), dtype=int)\n",
    "\n",
    "# Dizileri satır bazında birleştirdim\n",
    "birleştirilmiş_dizi = np.vstack((sıfırlar_dizisi, birler_dizisi))\n",
    "\n",
    "# Dizileri sütun bazında birleştirdim\n",
    "# birleştirilmiş_dizi = np.hstack((sıfırlar_dizisi, birler_dizisi)) # İsterseniz bu şekilde de birleştirebilirsiniz.\n",
    "\n",
    "print(\"Sıfırlar Dizi:\")\n",
    "print(sıfırlar_dizisi)\n",
    "print(\"Birler Dizi:\")\n",
    "print(birler_dizisi)\n",
    "print(\"Birleştirilmiş Dizi:\")\n",
    "print(birleştirilmiş_dizi)\n"
   ]
  },
  {
   "cell_type": "code",
   "execution_count": null,
   "id": "2fa82181",
   "metadata": {},
   "outputs": [],
   "source": []
  }
 ],
 "metadata": {
  "kernelspec": {
   "display_name": "Python 3 (ipykernel)",
   "language": "python",
   "name": "python3"
  },
  "language_info": {
   "codemirror_mode": {
    "name": "ipython",
    "version": 3
   },
   "file_extension": ".py",
   "mimetype": "text/x-python",
   "name": "python",
   "nbconvert_exporter": "python",
   "pygments_lexer": "ipython3",
   "version": "3.11.4"
  }
 },
 "nbformat": 4,
 "nbformat_minor": 5
}
