{
 "cells": [
  {
   "cell_type": "code",
   "execution_count": 1,
   "metadata": {},
   "outputs": [],
   "source": [
    "import numpy as np\n",
    "import pandas as pd\n",
    "import seaborn as sns\n",
    "import matplotlib.pyplot as plt"
   ]
  },
  {
   "cell_type": "code",
   "execution_count": 4,
   "metadata": {},
   "outputs": [],
   "source": [
    "data =pd.read_csv('nba-plşayers.csv')\n",
    "# İncelenecek veri setini belirledik"
   ]
  },
  {
   "cell_type": "code",
   "execution_count": 7,
   "metadata": {},
   "outputs": [
    {
     "data": {
      "text/plain": [
       "<bound method NDFrame.head of       anxiety_level  self_esteem  mental_health_history  depression  headache  \\\n",
       "0                14           20                      0          11         2   \n",
       "1                15            8                      1          15         5   \n",
       "2                12           18                      1          14         2   \n",
       "3                16           12                      1          15         4   \n",
       "4                16           28                      0           7         2   \n",
       "...             ...          ...                    ...         ...       ...   \n",
       "1095             11           17                      0          14         3   \n",
       "1096              9           12                      0           8         0   \n",
       "1097              4           26                      0           3         1   \n",
       "1098             21            0                      1          19         5   \n",
       "1099             18            6                      1          15         3   \n",
       "\n",
       "      blood_pressure  sleep_quality  breathing_problem  noise_level  \\\n",
       "0                  1              2                  4            2   \n",
       "1                  3              1                  4            3   \n",
       "2                  1              2                  2            2   \n",
       "3                  3              1                  3            4   \n",
       "4                  3              5                  1            3   \n",
       "...              ...            ...                ...          ...   \n",
       "1095               1              3                  2            2   \n",
       "1096               3              0                  0            0   \n",
       "1097               2              5                  2            2   \n",
       "1098               3              1                  4            3   \n",
       "1099               3              0                  3            3   \n",
       "\n",
       "      living_conditions  ...  basic_needs  academic_performance  study_load  \\\n",
       "0                     3  ...            2                     3           2   \n",
       "1                     1  ...            2                     1           4   \n",
       "2                     2  ...            2                     2           3   \n",
       "3                     2  ...            2                     2           4   \n",
       "4                     2  ...            3                     4           3   \n",
       "...                 ...  ...          ...                   ...         ...   \n",
       "1095                  2  ...            3                     2           2   \n",
       "1096                  1  ...            4                     0           1   \n",
       "1097                  3  ...            4                     5           1   \n",
       "1098                  1  ...            1                     2           5   \n",
       "1099                  0  ...            3                     3           4   \n",
       "\n",
       "      teacher_student_relationship  future_career_concerns  social_support  \\\n",
       "0                                3                       3               2   \n",
       "1                                1                       5               1   \n",
       "2                                3                       2               2   \n",
       "3                                1                       4               1   \n",
       "4                                1                       2               1   \n",
       "...                            ...                     ...             ...   \n",
       "1095                             2                       3               3   \n",
       "1096                             1                       1               1   \n",
       "1097                             4                       1               3   \n",
       "1098                             1                       4               1   \n",
       "1099                             3                       3               1   \n",
       "\n",
       "      peer_pressure  extracurricular_activities  bullying  stress_level  \n",
       "0                 3                           3         2             1  \n",
       "1                 4                           5         5             2  \n",
       "2                 3                           2         2             1  \n",
       "3                 4                           4         5             2  \n",
       "4                 5                           0         5             1  \n",
       "...             ...                         ...       ...           ...  \n",
       "1095              2                           3         3             1  \n",
       "1096              3                           4         3             2  \n",
       "1097              1                           2         1             0  \n",
       "1098              4                           4         4             2  \n",
       "1099              5                           1         4             2  \n",
       "\n",
       "[1100 rows x 21 columns]>"
      ]
     },
     "execution_count": 7,
     "metadata": {},
     "output_type": "execute_result"
    }
   ],
   "source": [
    "data.head"
   ]
  },
  {
   "cell_type": "code",
   "execution_count": null,
   "metadata": {},
   "outputs": [],
   "source": []
  }
 ],
 "metadata": {
  "kernelspec": {
   "display_name": "base",
   "language": "python",
   "name": "python3"
  },
  "language_info": {
   "codemirror_mode": {
    "name": "ipython",
    "version": 3
   },
   "file_extension": ".py",
   "mimetype": "text/x-python",
   "name": "python",
   "nbconvert_exporter": "python",
   "pygments_lexer": "ipython3",
   "version": "3.11.4"
  }
 },
 "nbformat": 4,
 "nbformat_minor": 2
}
