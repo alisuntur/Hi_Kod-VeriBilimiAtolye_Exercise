{
 "cells": [
  {
   "cell_type": "markdown",
   "id": "ff87c8f7",
   "metadata": {},
   "source": [
    "# 1\n",
    "Kullanıcıdan maaş bilgisini isteyelim ve bu bilgiye göre maaşından ne kadar vergi kesileceğini hesaplayalım. (Oluşturulan vergi sistemi hayal ürünüdür :D)\n",
    "Kullanıcının geliri;\n",
    "- 10000 ve altındaysa maaşından %5 kesinti olsun.\n",
    "- 25000 ve altındaysa maaşından %10 kesinti olsun.\n",
    "- 45000 ve altındaysa maaşından %25 kesinti olsun.\n",
    "- Diğer koşullarda %30 kesinti olsun.\n",
    "\n",
    "Bu durumlara göre kullanıcının yeni maaşını yazdıralım."
   ]
  },
  {
   "cell_type": "code",
   "execution_count": null,
   "id": "a6da3ea9",
   "metadata": {},
   "outputs": [],
   "source": [
    "# Kullanıcıdan maaş bilgisini küsüratlı olabileceğinden float datası olarak istiyorum\n",
    "maas = float(input(\"Maaşınızı girin: \"))\n",
    "\n",
    "# Vergi kesintisini ondalıklı şekilde yazarak verilen koşullara göre hesapladım\n",
    "if maas <= 10000:\n",
    "    kesinti_orani = 0.05\n",
    "elif maas <= 25000:\n",
    "    kesinti_orani = 0.10\n",
    "elif maas <= 45000:\n",
    "    kesinti_orani = 0.25\n",
    "else:\n",
    "    kesinti_orani = 0.30\n",
    "\n",
    "# Kesintiyi hesapladım ve yeni maaşı maaştan kesintiyi çıkararak hesapladım\n",
    "kesinti_miktari = maas * kesinti_orani\n",
    "yeni_maas = maas - kesinti_miktari\n",
    "\n",
    "# Sonucu yazdırdım\n",
    "print(f\"Geliriniz: {maas} TL\")\n",
    "print(f\"Vergi Kesintisi: {kesinti_miktari} TL\")\n",
    "print(f\"Yeni Maaşınız: {yeni_maas} TL\")\n"
   ]
  },
  {
   "cell_type": "markdown",
   "id": "77370310",
   "metadata": {},
   "source": [
    "# 2\n",
    "Kullanıcıdan kullanıcı adı ve şifre oluşturmasını isteyin. Şifrenin uzunluğu altı haneye ulaşmışsa hesabınız oluşturuldu mesajı alsın, altı haneden azsa altı haneli şifre oluşturması gerektiğinin mesajını alsın.(Sadece koşul kullanmanız yeterli.)"
   ]
  },
  {
   "cell_type": "code",
   "execution_count": null,
   "id": "61ddc038",
   "metadata": {},
   "outputs": [],
   "source": [
    "# Kullanıcıdan kullanıcı adı ve şifre bilgilerini alıyorum\n",
    "kullanici_adi = input(\"Kullanıcı adı oluşturun: \")\n",
    "sifre = input(\"Şifre oluşturun: \")\n",
    "\n",
    "# Şifrenin uzunluğunu   6 karakterden fazla olup olmadığını len fonksiyonu ile kontrol ediyor ve durum mesajını gösteriyorum\n",
    "if len(sifre) >= 6:\n",
    "    print(\"Hesabınız oluşturuldu.\")\n",
    "else:\n",
    "    print(\"Şifreniz en az altı karakter uzunluğunda olmalıdır. Lütfen daha uzun bir şifre seçin.\")\n"
   ]
  },
  {
   "cell_type": "markdown",
   "id": "fd529538",
   "metadata": {},
   "source": [
    "# 3\n",
    "Bir önceki örneği geliştiriyoruz. \n",
    "\n",
    "- Kullanıcı girdiği şifre 5 ve 10 hane arasında olmak zorunda olsun. \n",
    "- Eğer bu koşula uyuyorsa \"Hesabınız oluşturuldu.\" mesajı alsın\n",
    "- Koşulu sağlamıyorsa \"Lütfen girdiniz şifre 5 haneden az 1 haneden fazla olmasın!\" uyarısı alsın.\n",
    "- Bunu oluştururken kullanıcı istediğimiz şartlarda şifre oluşturuna kadar sormaya devam etsin."
   ]
  },
  {
   "cell_type": "code",
   "execution_count": null,
   "id": "b882e6f9",
   "metadata": {},
   "outputs": [],
   "source": [
    "# While true ile sonsuz döngüye aldım ve sonuç gelene kadar döngü devam ediyor\n",
    "while True:\n",
    "    sifre = input(\"Lütfen 5 ile 10 karakter arasında bir şifre oluşturun: \")\n",
    "# Şifre karakter uzunluğu kontrol edildi\n",
    "    if 5 <= len(sifre) <= 10:\n",
    "        print(\"Hesabınız oluşturuldu.\")\n",
    "        break #Döngü durduruldu\n",
    "    else:\n",
    "        print(\"Lütfen girdiğiniz şifre 5 haneden az ve 10 haneden fazla olmasın!\")\n",
    "        #Döngü devam ediyor istenilen sonuca ulaşna kadar "
   ]
  },
  {
   "cell_type": "markdown",
   "id": "2fd0417d",
   "metadata": {},
   "source": [
    "# 4\n",
    "- Kullanıcıdan isim ve şifre isteyeceğiz ve şifre girişi için üç hak vereceğiz. \n",
    "- Eğer önceden tanımlı şifre ile kullanıdan gelen şifre aynıysa \"Giriş yapıldı.\" yazsın. \n",
    "- Şifre girişi yanlışşa \"Yanlış şifre girildi!\" uyarısı verilsin ve üç yanlış denemede program bitsin.\n",
    "- Tercihe göre kalan hak bilgisi verilsin"
   ]
  },
  {
   "cell_type": "code",
   "execution_count": null,
   "id": "41d69a99",
   "metadata": {},
   "outputs": [],
   "source": [
    "# Önceden tanımlı kullanıcı adı ve şifre\n",
    "dogru_kullanici_adi = \"Kaptan\"\n",
    "dogru_sifre = \"J-Kirk\"\n",
    "\n",
    "# Üç hakkı tanımlayın\n",
    "kalan_hak = 3\n",
    "\n",
    "while kalan_hak > 0:\n",
    "    kullanici_adi = input(\"Kullanıcı adınızı girin: \")\n",
    "    sifre = input(\"Şifrenizi girin: \")\n",
    "\n",
    "    if kullanici_adi == dogru_kullanici_adi and sifre == dogru_sifre:\n",
    "        print(\"Giriş yapıldı.\")\n",
    "        break\n",
    "    else:\n",
    "        kalan_hak -= 1\n",
    "        if kalan_hak == 0:\n",
    "            print(\"Üç kez yanlış şifre girdiniz. Program sona eriyor.\")\n",
    "        else:\n",
    "            print(f\"Yanlış şifre girdiniz! Kalan hakkınız: {kalan_hak}\")"
   ]
  }
 ],
 "metadata": {
  "kernelspec": {
   "display_name": "Python 3 (ipykernel)",
   "language": "python",
   "name": "python3"
  },
  "language_info": {
   "codemirror_mode": {
    "name": "ipython",
    "version": 3
   },
   "file_extension": ".py",
   "mimetype": "text/x-python",
   "name": "python",
   "nbconvert_exporter": "python",
   "pygments_lexer": "ipython3",
   "version": "3.11.4"
  }
 },
 "nbformat": 4,
 "nbformat_minor": 5
}
