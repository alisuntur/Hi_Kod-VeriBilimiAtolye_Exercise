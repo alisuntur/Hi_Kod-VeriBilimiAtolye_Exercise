{
 "cells": [
  {
   "cell_type": "markdown",
   "id": "26439af6",
   "metadata": {},
   "source": [
    "# 1\n",
    "Enumerate methodunu araştırın ve aşağıdaki örneği enumerate methodu ile yapın.\n"
   ]
  },
  {
   "cell_type": "code",
   "execution_count": 5,
   "id": "852746e7",
   "metadata": {},
   "outputs": [
    {
     "name": "stdout",
     "output_type": "stream",
     "text": [
      "0. indexte bulunan meyve: elma\n",
      "1. indexte bulunan meyve: armut\n",
      "2. indexte bulunan meyve: muz\n",
      "3. indexte bulunan meyve: çilek\n",
      "4. indexte bulunan meyve: ayva\n",
      "5. indexte bulunan meyve: kiraz\n"
     ]
    }
   ],
   "source": [
    "meyveler = [\"elma\", \"armut\", \"muz\", \"çilek\", \"ayva\", \"kiraz\"]\n",
    "for index in range(len(meyveler)):\n",
    "    print(\"{}. indexte bulunan meyve: {}\".format(index,meyveler[index]))\n",
    "    "
   ]
  },
  {
   "cell_type": "code",
   "execution_count": 6,
   "id": "d064c77d",
   "metadata": {},
   "outputs": [
    {
     "name": "stdout",
     "output_type": "stream",
     "text": [
      "0. indexte bulunan meyve: elma\n",
      "1. indexte bulunan meyve: armut\n",
      "2. indexte bulunan meyve: muz\n",
      "3. indexte bulunan meyve: çilek\n",
      "4. indexte bulunan meyve: ayva\n",
      "5. indexte bulunan meyve: kiraz\n"
     ]
    }
   ],
   "source": [
    "meyveler = [\"elma\", \"armut\", \"muz\", \"çilek\", \"ayva\", \"kiraz\"]\n",
    "\n",
    "for index, meyve in enumerate(meyveler):\n",
    "    print(\"{}. indexte bulunan meyve: {}\".format(index, meyve))\n"
   ]
  },
  {
   "cell_type": "markdown",
   "id": "ab8d8d71",
   "metadata": {},
   "source": [
    "# 2\n",
    "Aşagıdaki listede bulunan string veri tipindeki öğeleri yeni_liste isimli değişkene ekleyin."
   ]
  },
  {
   "cell_type": "code",
   "execution_count": 3,
   "id": "2a0ed09b",
   "metadata": {},
   "outputs": [],
   "source": [
    "liste = [\"Python\",True,9,\"3\",8.4,\"Hi-Kod\",\"False\",4.7]\n"
   ]
  },
  {
   "cell_type": "code",
   "execution_count": 4,
   "id": "8927fe90",
   "metadata": {},
   "outputs": [
    {
     "name": "stdout",
     "output_type": "stream",
     "text": [
      "['Python', '3', 'Hi-Kod', 'False']\n"
     ]
    }
   ],
   "source": [
    "liste = [\"Python\", True, 9, \"3\", 8.4, \"Hi-Kod\", \"False\", 4.7]\n",
    "\n",
    "yeni_liste = []\n",
    "\n",
    "for eleman in liste:\n",
    "    if type(eleman) == str:\n",
    "        yeni_liste.append(eleman)\n",
    "\n",
    "print(yeni_liste)\n"
   ]
  },
  {
   "cell_type": "code",
   "execution_count": null,
   "id": "46b54f71",
   "metadata": {},
   "outputs": [],
   "source": []
  }
 ],
 "metadata": {
  "kernelspec": {
   "display_name": "Python 3 (ipykernel)",
   "language": "python",
   "name": "python3"
  },
  "language_info": {
   "codemirror_mode": {
    "name": "ipython",
    "version": 3
   },
   "file_extension": ".py",
   "mimetype": "text/x-python",
   "name": "python",
   "nbconvert_exporter": "python",
   "pygments_lexer": "ipython3",
   "version": "3.11.4"
  }
 },
 "nbformat": 4,
 "nbformat_minor": 5
}
