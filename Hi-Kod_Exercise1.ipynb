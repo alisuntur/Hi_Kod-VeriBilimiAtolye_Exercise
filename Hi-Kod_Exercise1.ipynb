{
 "cells": [
  {
   "cell_type": "markdown",
   "metadata": {},
   "source": [
    "# Exercise 1\n",
    "\n",
    "x = 3 ----> floata çevirelim. Çevirdikten sonra beri tipinide yazdıralım.\n",
    "\n",
    "y = 4.5 -----> integere çevirelim. Çevirdikten sonra beri tipinide yazdıralım.\n",
    "\n",
    "z = \"8\" -----> integera çevirelim. Çevirdikten sonra beri tipinide yazdıralım.\n",
    "\n",
    "a = \"12\" -----> floata çevirelim. Çevirdikten sonra beri tipinide yazdıralım.\n",
    "\n",
    "b = \"46.8\" ------> integera çevirelim. Çevirdikten sonra beri tipinide yazdıralım."
   ]
  },
  {
   "cell_type": "code",
   "execution_count": 1,
   "metadata": {},
   "outputs": [
    {
     "name": "stdout",
     "output_type": "stream",
     "text": [
      "3.0\n",
      "<class 'float'>\n",
      "4\n",
      "<class 'int'>\n",
      "8\n",
      "<class 'int'>\n",
      "12.0\n",
      "<class 'float'>\n",
      "46\n",
      "<class 'int'>\n"
     ]
    }
   ],
   "source": [
    "x=3\n",
    "y=4.5\n",
    "z=\"8\"\n",
    "a=\"12\"\n",
    "b=\"46.8\"\n",
    "\n",
    "#E1-1\n",
    "x_float=float(x)\n",
    "print(x_float)\n",
    "print(type(x_float))\n",
    "\n",
    "#E1-2\n",
    "y_int=int(y)\n",
    "print(y_int)\n",
    "print(type(y_int))\n",
    "\n",
    "#E1-3\n",
    "z_int=int(z)\n",
    "print(int(z_int))\n",
    "print(type(z_int))\n",
    "\n",
    "#E1-4\n",
    "a_float=float(int(a))\n",
    "print(a_float)\n",
    "print(type(a_float))\n",
    "\n",
    "#E1-5\n",
    "b_int=int(float(b))\n",
    "print(b_int)\n",
    "print(type(b_int))"
   ]
  },
  {
   "cell_type": "markdown",
   "metadata": {},
   "source": [
    "# Excersice 2\n",
    "\n",
    "Üç değişken belirleyelim, bu değişkenler kişi adı olsun. Değişkenlere kişilerin yaşlarını atayalım. (ÖRN: ayse=22)\n",
    "\n",
    "Belirlediğimiz üç değişkeni birbiriyle karşılaştırma operatörleri ile karşılatıralım. (ayse>mehmet)\n",
    "\n",
    "Bu karşılaştırmalara mantıksal operatörleri de ekleyelim."
   ]
  },
  {
   "cell_type": "code",
   "execution_count": 4,
   "metadata": {},
   "outputs": [
    {
     "name": "stdout",
     "output_type": "stream",
     "text": [
      "Mine Emre'den büyük mü? True\n",
      "Mustafa Emre'den küçük mü? False\n",
      "Herkes Emre'den büyük mü ve Mustafa Emre'den küçük değil mi? True\n",
      "Herhangi biri Emre'den büyük mü? True\n"
     ]
    }
   ],
   "source": [
    "# Üç kişinin yaşlarını temsil eden değişkenleri tanımlayalım\n",
    "mine_yasi = 22\n",
    "emre_yasi = 20\n",
    "mustafa_yasi = 25\n",
    "\n",
    "# Kişilerin yaşlarını karşılaştıralım ve mantıksal operatörleri kullanarak birleştirelim\n",
    "mine_buyuk_mu_emre = mine_yasi > emre_yasi  # Mine, Emre'den büyük mü?\n",
    "mustafa_kucuk_mu_emre = mustafa_yasi < emre_yasi  # Mustafa, Emre'den küçük mü?\n",
    "\n",
    "herkes_buyuk_mu = mine_buyuk_mu_emre and (not mustafa_kucuk_mu_emre)#Mine Emreden büyük mü ? Not(Mustafa nın  Emreden küçük olmaması durumunu not ile tersini alarak kontrol ettim) \n",
    "herhangi_biri_buyuk_mu = mine_buyuk_mu_emre or mustafa_kucuk_mu_emre\n",
    "\n",
    "# Sonuçları yazdıralım\n",
    "print(\"Mine Emre'den büyük mü?\", mine_buyuk_mu_emre)\n",
    "print(\"Mustafa Emre'den küçük mü?\", mustafa_kucuk_mu_emre)\n",
    "print(\"Herkes Emre'den büyük mü ve Mustafa Emre'den küçük değil mi?\", herkes_buyuk_mu)\n",
    "print(\"Herhangi biri Emre'den büyük mü?\", herhangi_biri_buyuk_mu)\n"
   ]
  },
  {
   "cell_type": "markdown",
   "metadata": {},
   "source": [
    "# Excercise 3\n",
    "\n",
    "Kullanıcıdan iki değer girmesini isteyin. Girilen değerlerin toplama,çıkarma,çarpma,bölme sonuçlarını yazdıralım."
   ]
  },
  {
   "cell_type": "code",
   "execution_count": null,
   "metadata": {},
   "outputs": [],
   "source": [
    "#Verileri float üzerinden almak hem verinin yanlış sonuç vermesini engeller ve nokta işlem yapar.\n",
    "#f\"...\" ifadesini string dizesi olduğunu belirtmek için kullandım\n",
    "\n",
    "# Kullanıcıdan iki değer alın\n",
    "sayi1 = float(input(\"İlk sayıyı girin: \"))\n",
    "sayi2 = float(input(\"İkinci sayıyı girin: \"))\n",
    "\n",
    "# Toplama işlemi\n",
    "toplam = sayi1 + sayi2\n",
    "print(f\"{sayi1} + {sayi2} = {toplam}\")\n",
    "\n",
    "# Çıkarma işlemi\n",
    "cikarma = sayi1 - sayi2\n",
    "print(f\"{sayi1} - {sayi2} = {cikarma}\")\n",
    "\n",
    "# Çarpma işlemi\n",
    "carpma = sayi1 * sayi2\n",
    "print(f\"{sayi1} * {sayi2} = {carpma}\")\n",
    "\n",
    "# Bölme işlemi (sıfıra bölme hatasını kontrol etmek gerekebilir(hata kontrolü))\n",
    "if sayi2 != 0:\n",
    "    bolme = sayi1 / sayi2\n",
    "    print(f\"{sayi1} / {sayi2} = {bolme}\")\n",
    "else:\n",
    "    print(\"Sıfıra bölme hatası! İkinci sayıyı sıfırdan farklı bir değer girin.\")"
   ]
  },
  {
   "cell_type": "markdown",
   "metadata": {},
   "source": [
    "# Excercise 4\n",
    "\n",
    "Kullanıcıdan isim, yaş, şehir ve meslek bilgilerini isteyelim ve cevaplarını yazdıralım."
   ]
  },
  {
   "cell_type": "code",
   "execution_count": null,
   "metadata": {},
   "outputs": [],
   "source": [
    " \n",
    "isim = input(\"Adınızı girin: \")\n",
    "yas = input(\"Yaşınızı girin: \")\n",
    "sehir = input(\"Şehrinizi girin: \")\n",
    "meslek = input(\"Mesleğinizi girin: \")\n",
    "\n",
    "print(\"\\nGirdiğiniz Bilgiler:\")\n",
    "print(f\"İsim: {isim}\")\n",
    "print(f\"Yaş: {yas}\")\n",
    "print(f\"Şehir: {sehir}\")\n",
    "print(f\"Meslek: {meslek}\")\n"
   ]
  },
  {
   "cell_type": "markdown",
   "metadata": {},
   "source": [
    "# Excersice 5 \n",
    "\n",
    "\"Hi-Kod Veri Bilimi Atölyesi\" ifadesini bir değişkene tanımlayalım.\n",
    "- İfadedeki her bir kelimeyi (\"Hi-Kod\", \"Veri\", \"Bilimi\", \"Atölyesi\") değişken içinden seçelim.\n",
    "- İfadeyi hepsini büyük harf olacak hale çevirelim.  (\"HI-KOD VERİ BİLİMİ ATÖLYESİ\")\n",
    "- İfadeyi hepsini büyük harf olacak hale çevirelim.(\"hi-kod veri bilimi atölyesi\")\n",
    "\n",
    "\"0123456789\" ifadesindeki yalnızca çift sayıları ve yalnızca tek sayıları seçelim. (\"02468\", \"13579\")\n"
   ]
  },
  {
   "cell_type": "markdown",
   "metadata": {},
   "source": []
  },
  {
   "cell_type": "code",
   "execution_count": 2,
   "metadata": {},
   "outputs": [
    {
     "name": "stdout",
     "output_type": "stream",
     "text": [
      "Hi-Kod\n",
      "Veri\n",
      "Bilimi\n",
      "Atölyesi\n",
      "\n",
      "Hepsini büyük harfle:\n",
      "HI-KOD VERI BILIMI ATÖLYESI\n",
      "\n",
      "Hepsini küçük harfle:\n",
      "hi-kod veri bilimi atölyesi\n"
     ]
    }
   ],
   "source": [
    "# İfadeyi bir değişkene tanımlayalım\n",
    "ifade = \"Hi-Kod Veri Bilimi Atölyesi\"\n",
    "\n",
    "# Her kelimeyi seçelim\n",
    "kelimeler = ifade.split()\n",
    "\n",
    "# İfadeyi hepsini büyük harf olacak hale çevirelim\n",
    "buyuk_harfli_ifade = ifade.upper()\n",
    "\n",
    "# İfadeyi hepsini küçük harf olacak hale çevirelim\n",
    "kucuk_harfli_ifade = ifade.lower()\n",
    "\n",
    " # Kelimeleri ekrana yazdıralım\n",
    "for kelime in kelimeler:\n",
    "    print(kelime)\n",
    "\n",
    "print(\"\\nHepsini büyük harfle:\")\n",
    "print(buyuk_harfli_ifade)\n",
    "\n",
    "print(\"\\nHepsini küçük harfle:\")\n",
    "print(kucuk_harfli_ifade)"
   ]
  },
  {
   "cell_type": "code",
   "execution_count": 1,
   "metadata": {},
   "outputs": [
    {
     "name": "stdout",
     "output_type": "stream",
     "text": [
      "Sayı Dizisi: [0, 1, 2, 3, 4, 5, 6, 7, 8, 9]\n",
      "Çift Sayılar: [0, 2, 4, 6, 8]\n",
      "Tek Sayılar: [1, 3, 5, 7, 9]\n"
     ]
    }
   ],
   "source": [
    "ifade = \"0123456789\"\n",
    "sayi_dizisi = [int(sayi) for sayi in ifade]\n",
    "\n",
    "print(\"Sayı Dizisi:\", sayi_dizisi)\n",
    "\n",
    "baslangic = min(sayi_dizisi)  # En küçük sayıyı al\n",
    "bitis = max(sayi_dizisi) + 1  # En büyük sayıya bir ekleyin\n",
    "\n",
    "tek_sayilar = []\n",
    "cift_sayilar = []\n",
    "\n",
    "for sayi in range(baslangic, bitis):\n",
    "    if sayi % 2 == 0:\n",
    "        cift_sayilar.append(sayi)\n",
    "    else:\n",
    "        tek_sayilar.append(sayi)\n",
    "\n",
    "print(\"Çift Sayılar:\", cift_sayilar)\n",
    "print(\"Tek Sayılar:\", tek_sayilar)\n",
    "\n"
   ]
  },
  {
   "cell_type": "code",
   "execution_count": null,
   "metadata": {},
   "outputs": [],
   "source": []
  },
  {
   "cell_type": "code",
   "execution_count": null,
   "metadata": {},
   "outputs": [],
   "source": []
  }
 ],
 "metadata": {
  "kernelspec": {
   "display_name": "Python 3 (ipykernel)",
   "language": "python",
   "name": "python3"
  },
  "language_info": {
   "codemirror_mode": {
    "name": "ipython",
    "version": 3
   },
   "file_extension": ".py",
   "mimetype": "text/x-python",
   "name": "python",
   "nbconvert_exporter": "python",
   "pygments_lexer": "ipython3",
   "version": "3.11.4"
  },
  "vscode": {
   "interpreter": {
    "hash": "c881c981974d1277f7400ccc3574e04ed710c1350960151bc46c299926b2e061"
   }
  }
 },
 "nbformat": 4,
 "nbformat_minor": 2
}
