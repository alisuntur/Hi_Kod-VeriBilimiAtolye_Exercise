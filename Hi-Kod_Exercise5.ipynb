{
 "cells": [
  {
   "cell_type": "markdown",
   "id": "26439af6",
   "metadata": {},
   "source": [
    "# 1\n",
    "Bir sözlük oluşturulur ve bu sözlükte öğrencilerin isimleri ve Matematik,Fizik,Kimya notları tutulur. Kullanıcıdan isim ve ders ismi(Matematik,Fizik,Kimya) istenir ve bu bilgilere göre çıktı verilir.\n"
   ]
  },
  {
   "cell_type": "code",
   "execution_count": 1,
   "id": "2563a8e0",
   "metadata": {},
   "outputs": [
    {
     "name": "stdout",
     "output_type": "stream",
     "text": [
      "Öğrenci adını girin: Mehmet\n",
      "Ders adını girin (Matematik, Fizik, Kimya): Matematik\n",
      "Mehmet adlı öğrencinin Matematik notu: 88\n"
     ]
    }
   ],
   "source": [
    "# Öğrenci notlarını içeren sözlüğü oluşturdum\n",
    "ogrenci_notlari = {\n",
    "    \"Ali\": {\n",
    "        \"Matematik\": 95,\n",
    "        \"Fizik\": 88,\n",
    "        \"Kimya\": 90\n",
    "    },\n",
    "    \"Ayşe\": {\n",
    "        \"Matematik\": 75,\n",
    "        \"Fizik\": 91,\n",
    "        \"Kimya\": 84\n",
    "    },\n",
    "    \"Mehmet\": {\n",
    "        \"Matematik\": 88,\n",
    "        \"Fizik\": 82,\n",
    "        \"Kimya\": 95\n",
    "    }\n",
    "}\n",
    "\n",
    "# Kullanıcıdan öğrenci adını ve ders adını alın\n",
    "ogrenci_adi = input(\"Öğrenci adını girin: \")\n",
    "ders_adi = input(\"Ders adını girin (Matematik, Fizik, Kimya): \")\n",
    "\n",
    "# Girilen öğrenci adı ve ders adına göre notu alın\n",
    "if ogrenci_adi in ogrenci_notlari:\n",
    "    if ders_adi in ogrenci_notlari[ogrenci_adi]:\n",
    "        notu = ogrenci_notlari[ogrenci_adi][ders_adi]\n",
    "        print(f\"{ogrenci_adi} adlı öğrencinin {ders_adi} notu: {notu}\")\n",
    "    else:\n",
    "        print(f\"{ogrenci_adi} adlı öğrencinin {ders_adi} dersi kayıtlı değil.\")\n",
    "else:\n",
    "    print(f\"{ogrenci_adi} adlı öğrenci bulunamadı.\")"
   ]
  },
  {
   "cell_type": "code",
   "execution_count": null,
   "id": "bf52430a",
   "metadata": {},
   "outputs": [],
   "source": []
  }
 ],
 "metadata": {
  "kernelspec": {
   "display_name": "Python 3 (ipykernel)",
   "language": "python",
   "name": "python3"
  },
  "language_info": {
   "codemirror_mode": {
    "name": "ipython",
    "version": 3
   },
   "file_extension": ".py",
   "mimetype": "text/x-python",
   "name": "python",
   "nbconvert_exporter": "python",
   "pygments_lexer": "ipython3",
   "version": "3.11.4"
  }
 },
 "nbformat": 4,
 "nbformat_minor": 5
}
