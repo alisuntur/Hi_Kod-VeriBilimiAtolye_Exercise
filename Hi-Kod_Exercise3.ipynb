{
 "cells": [
  {
   "cell_type": "markdown",
   "id": "ff87c8f7",
   "metadata": {},
   "source": [
    "# 1\n",
    "Kullanıcıdan pi değeri ve yarıçap bilgisi alarak dairenin alanını hesaplayan bir fonksiyon oluşturun"
   ]
  },
  {
   "cell_type": "code",
   "execution_count": null,
   "id": "a6da3ea9",
   "metadata": {},
   "outputs": [],
   "source": [
    "def daire_alani_hesapla():\n",
    "    # Kullanıcıdan pi değerini ve yarıçapının değerini aldım\n",
    "    pi = float(input(\"Lütfen pi değerini girin: \"))\n",
    "    yaricap = float(input(\"Lütfen dairenin yarıçapını girin: \"))\n",
    "    \n",
    "    # Dairenin alanını hesapladım\n",
    "    alan = pi * (yaricap ** 2)\n",
    "    \n",
    "    # Sonucu ekrana yazdırdım\n",
    "    print(f\"Dairenin alanı: {alan}\")\n",
    "\n",
    "# Fonksiyonu çağırarak kullandım\n",
    "daire_alani_hesapla()"
   ]
  },
  {
   "cell_type": "markdown",
   "id": "77370310",
   "metadata": {},
   "source": [
    "# 2\n",
    "Faktöriyel adında fonksiyon oluşturulur. Döngü kullanarak parametre olarak girilen sayının faktöriyeli hesaplanır. Format metodunu kullanılarak ekrana yazdırılır."
   ]
  },
  {
   "cell_type": "code",
   "execution_count": null,
   "id": "61ddc038",
   "metadata": {},
   "outputs": [],
   "source": [
    "def faktoriyel(sayi):\n",
    "    faktoriyel_degeri = 1\n",
    "    for i in range(1, sayi + 1):\n",
    "        faktoriyel_degeri *= i\n",
    "    return faktoriyel_degeri\n",
    "\n",
    "# Kullanıcıdan faktöriyelini hesaplamak istediği sayının değerini aldım\n",
    "sayi = int(input(\"Faktöriyelini hesaplamak istediğiniz sayıyı girin: \"))\n",
    "\n",
    "# faktoriyel() fonksiyonunu çağırarak faktöriyelin sonucunu hesapldım\n",
    "sonuc = faktoriyel(sayi)\n",
    "\n",
    "# Sonucu ekrana yazdırdım\n",
    "print(\"{} sayısının faktöriyeli: {}\".format(sayi, sonuc))\n"
   ]
  },
  {
   "cell_type": "markdown",
   "id": "fd529538",
   "metadata": {},
   "source": [
    "# 3\n",
    "Attributes değerleri  id, isim, soyisim, doğum yılı, departman, haftada kaç saat çalıştığı, saatlik ücret olan personel class’ı oluşturulur. Attributler print ve formatlama ile ekrana yazdırılır."
   ]
  },
  {
   "cell_type": "code",
   "execution_count": null,
   "id": "b882e6f9",
   "metadata": {},
   "outputs": [],
   "source": [
    "class Personel:\n",
    "    def __init__(self, id, isim, soyisim, dogum_yili, departman, calisma_saati, saatlik_ucret):\n",
    "        #Attributes değerleri tanımladım\n",
    "        self.id = id\n",
    "        self.isim = isim\n",
    "        self.soyisim = soyisim\n",
    "        self.dogum_yili = dogum_yili\n",
    "        self.departman = departman\n",
    "        self.calisma_saati = calisma_saati\n",
    "        self.saatlik_ucret = saatlik_ucret\n",
    "\n",
    "    def bilgileri_goster(self):\n",
    "        print(\"ID: {}\".format(self.id))\n",
    "        print(\"İsim: {}\".format(self.isim))\n",
    "        print(\"Soyisim: {}\".format(self.soyisim))\n",
    "        print(\"Doğum Yılı: {}\".format(self.dogum_yili))\n",
    "        print(\"Departman: {}\".format(self.departman))\n",
    "        print(\"Haftada Çalıştığı Saat: {}\".format(self.calisma_saati))\n",
    "        print(\"Saatlik Ücret: {}\".format(self.saatlik_ucret))\n",
    "\n",
    "# Örnek bir Personel nesnesi oluşturdum\n",
    "personel1 = Personel(7, \"Hakan\", \"Yılmaz\", 2000, \"Yönetim\", 35, 30.0)\n",
    "\n",
    "# Bilgileri ekrana yazdırdım\n",
    "personel1.bilgileri_goster()\n"
   ]
  },
  {
   "cell_type": "markdown",
   "id": "2fd0417d",
   "metadata": {},
   "source": [
    "# 4\n",
    "• Personel classına aşağıdaki metotlar eklenir.\n",
    "\n",
    "   - Yaş hesaplama: Güncel yıl - doğum yılı\n",
    "\n",
    "   - Maaş hesaplama: çalıştığı saat * saatlik ücret"
   ]
  },
  {
   "cell_type": "code",
   "execution_count": null,
   "id": "e145cb14",
   "metadata": {},
   "outputs": [],
   "source": [
    "class Personel:\n",
    "    #Attributes değerleri tanımladım\n",
    "    def __init__(self, id, isim, soyisim, dogum_yili, departman, calisma_saati, saatlik_ucret):\n",
    "        self.id = id\n",
    "        self.isim = isim\n",
    "        self.soyisim = soyisim\n",
    "        self.dogum_yili = dogum_yili\n",
    "        self.departman = departman\n",
    "        self.calisma_saati = calisma_saati\n",
    "        self.saatlik_ucret = saatlik_ucret\n",
    "\n",
    "    def bilgileri_goster(self):\n",
    "        print(\"ID: {}\".format(self.id))\n",
    "        print(\"İsim: {}\".format(self.isim))\n",
    "        print(\"Soyisim: {}\".format(self.soyisim))\n",
    "        print(\"Doğum Yılı: {}\".format(self.dogum_yili))\n",
    "        print(\"Departman: {}\".format(self.departman))\n",
    "        print(\"Haftada Çalıştığı Saat: {}\".format(self.calisma_saati))\n",
    "        print(\"Saatlik Ücret: {}\".format(self.saatlik_ucret))\n",
    "\n",
    "    def yas_hesapla(self, current_year):\n",
    "        return current_year - self.dogum_yili\n",
    "\n",
    "    def maas_hesapla(self):\n",
    "        return self.calisma_saati * self.saatlik_ucret\n",
    "\n",
    "# Örnek bir Personel nesnesi oluşturdum\n",
    "personel1 = Personel(7, \"Hakan\", \"Yılmaz\", 2000, \"Yönetim\", 35, 30.0)\n",
    "\n",
    "# Bilgileri ekrana yazdırdım\n",
    "personel1.bilgileri_goster()\n",
    "\n",
    "# Yaşını hesapladım ve ekrana yazdırdım\n",
    "current_year = 2023  # Güncel yılı burada 2023 olarak kabul ediyoruz\n",
    "yas = personel1.yas_hesapla(current_year)\n",
    "print(\"Yaş: {}\".format(yas))\n",
    "\n",
    "# Maaşını hesapladım ve ekrana yazdırdım\n",
    "maas = personel1.maas_hesapla()\n",
    "print(\"Maaş: {}\".format(maas))\n"
   ]
  },
  {
   "cell_type": "markdown",
   "id": "e137d731",
   "metadata": {},
   "source": [
    "# 5\n",
    "• \"Calisan\" adlı bir sınıf tanımlanır. Bu sınıfa \"ad\", \"soyad\", \"maas\" özellikleri eklenir. Bu sınıfta \"calis\" metodu tanımlanır, bu metod çalışanların işyerinde çalıştığını belirten bir çıktı verir."
   ]
  },
  {
   "cell_type": "code",
   "execution_count": null,
   "id": "5c5b2a22",
   "metadata": {},
   "outputs": [],
   "source": [
    "class Calisan:\n",
    "    def __init__(self, ad, soyad, maas):\n",
    "        self.ad = ad\n",
    "        self.soyad = soyad\n",
    "        self.maas = maas\n",
    "\n",
    "    def calis(self):\n",
    "        print(\"{} {} işyerinde çalışıyor.\".format(self.ad, self.soyad))\n",
    "\n",
    "# Bir çalışan nesnesi oluşturalım\n",
    "calisan1 = Calisan(\"Hakan\", \"Yılmaz\", 5000)\n",
    "\n",
    "# Çalışanın bilgilerini ve çalışma durumunu ekrana yazdıralım\n",
    "print(\"Ad: {}\".format(calisan1.ad))\n",
    "print(\"Soyad: {}\".format(calisan1.soyad))\n",
    "print(\"Maaş: {}\".format(calisan1.maas))\n",
    "calisan1.calis()  # Çalışma durumunu ekrana yazdıralım\n"
   ]
  },
  {
   "cell_type": "markdown",
   "id": "dc7612c2",
   "metadata": {},
   "source": [
    " # 6\n",
    " \"Mudur\" adlı bir alt sınıf tanımlanır. Bu sınıf, \"Calisan\" sınıfından miras alır. \" Mudur\" sınıfı, \"Calisan\" sınıfında tanımlanan özelliklere ek olarak, \"departman\" ve \"sicil_no\" gibi özellikler içerir. Bu sınıfta bir \"calis\" metodu tanımlanır, bu metod çalışanların işyerinde yönetici olarak çalıştığını belirten bir çıktı verir."
   ]
  },
  {
   "cell_type": "code",
   "execution_count": null,
   "id": "5defc512",
   "metadata": {},
   "outputs": [],
   "source": [
    "class Calisan:\n",
    "    def __init__(self, ad, soyad, maas):\n",
    "        self.ad = ad\n",
    "        self.soyad = soyad\n",
    "        self.maas = maas\n",
    "\n",
    "    def calis(self):\n",
    "        print(\"{} {} işyerinde çalışıyor.\".format(self.ad, self.soyad))\n",
    "\n",
    "class Mudur(Calisan):\n",
    "    def __init__(self, ad, soyad, maas, departman, sicil_no):\n",
    "        super().__init__(ad, soyad, maas)\n",
    "        self.departman = departman\n",
    "        self.sicil_no = sicil_no\n",
    "\n",
    "    def calis(self):\n",
    "        print(\"{} {} işyerinde yönetici olarak çalışıyor.\".format(self.ad, self.soyad))\n",
    "\n",
    "# Bir müdür nesnesi oluşturalım\n",
    "mudur1 = Mudur(\"Mert\", \"Yılmaz\", 10000, \"İnsan Kaynakları\", \"12345\")\n",
    "\n",
    "# Müdürün bilgilerini ve çalışma durumunu ekrana yazdıralım\n",
    "print(\"Ad: {}\".format(mudur1.ad))\n",
    "print(\"Soyad: {}\".format(mudur1.soyad))\n",
    "print(\"Maaş: {}\".format(mudur1.maas))\n",
    "print(\"Departman: {}\".format(mudur1.departman))\n",
    "print(\"Sicil No: {}\".format(mudur1.sicil_no))\n",
    "mudur1.calis()  # Çalışma durumunu ekrana yazdır\n",
    "\n",
    "\n",
    "#Kodumda iki tane çalış metodu görülüyor . \n",
    "#Bu durum, Python'da bir üst sınıftan miras aldığınızda aynı isimdeki bir metodu alt sınıfta tekrar tanımlayarak, \n",
    "#üst sınıftaki metodu üzerine yazabilme yeteneğinizden kaynaklanır. \n",
    "#Bu kavrama \"metodun geçersiz kılınması\" veya \"override\" denir."
   ]
  }
 ],
 "metadata": {
  "kernelspec": {
   "display_name": "Python 3 (ipykernel)",
   "language": "python",
   "name": "python3"
  },
  "language_info": {
   "codemirror_mode": {
    "name": "ipython",
    "version": 3
   },
   "file_extension": ".py",
   "mimetype": "text/x-python",
   "name": "python",
   "nbconvert_exporter": "python",
   "pygments_lexer": "ipython3",
   "version": "3.11.4"
  }
 },
 "nbformat": 4,
 "nbformat_minor": 5
}
